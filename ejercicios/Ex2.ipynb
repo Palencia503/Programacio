{
 "cells": [
  {
   "cell_type": "markdown",
   "id": "03e2a0e0",
   "metadata": {},
   "source": [
    "\n",
    "## **Exercici 2** ##\n",
    "### Suma de dos variables:\n"
   ]
  },
  {
   "cell_type": "code",
   "execution_count": 12,
   "id": "06b4de75",
   "metadata": {},
   "outputs": [
    {
     "name": "stdout",
     "output_type": "stream",
     "text": [
      "15\n"
     ]
    }
   ],
   "source": [
    "num1 = 5\n",
    "num2 = 10\n",
    "resultado = num1 + num2\n",
    "print(resultado)"
   ]
  }
 ],
 "metadata": {
  "kernelspec": {
   "display_name": "Python 3",
   "language": "python",
   "name": "python3"
  },
  "language_info": {
   "codemirror_mode": {
    "name": "ipython",
    "version": 3
   },
   "file_extension": ".py",
   "mimetype": "text/x-python",
   "name": "python",
   "nbconvert_exporter": "python",
   "pygments_lexer": "ipython3",
   "version": "3.12.6"
  }
 },
 "nbformat": 4,
 "nbformat_minor": 5
}
